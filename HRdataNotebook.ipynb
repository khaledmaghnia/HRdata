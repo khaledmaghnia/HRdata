{
  "nbformat": 4,
  "nbformat_minor": 0,
  "metadata": {
    "colab": {
      "name": "HRdataNotebook.ipynb",
      "version": "0.3.2",
      "provenance": [],
      "collapsed_sections": [
        "XIVtYmhLdab4",
        "YPNLFNkWdab8"
      ],
      "include_colab_link": true
    },
    "kernelspec": {
      "name": "python3",
      "display_name": "Python 3"
    },
    "accelerator": "TPU"
  },
  "cells": [
    {
      "cell_type": "markdown",
      "metadata": {
        "id": "view-in-github",
        "colab_type": "text"
      },
      "source": [
        "<a href=\"https://colab.research.google.com/github/liapunov/HRdata/blob/master/HRdataNotebook.ipynb\" target=\"_parent\"><img src=\"https://colab.research.google.com/assets/colab-badge.svg\" alt=\"Open In Colab\"/></a>"
      ]
    },
    {
      "metadata": {
        "id": "VRduSRjKdaXU",
        "colab_type": "text"
      },
      "cell_type": "markdown",
      "source": [
        "# Salary Predictions Based on Job Descriptions"
      ]
    },
    {
      "metadata": {
        "id": "r140dAyZgcjb",
        "colab_type": "code",
        "outputId": "7ba9ad25-ec25-4738-ffae-7697b010735f",
        "colab": {
          "base_uri": "https://localhost:8080/",
          "height": 129
        }
      },
      "cell_type": "code",
      "source": [
        "# We will save and access the data on Google Drive\n",
        "from google.colab import drive\n",
        "drive.mount('/content/gdrive')"
      ],
      "execution_count": 2,
      "outputs": [
        {
          "output_type": "stream",
          "text": [
            "Go to this URL in a browser: https://accounts.google.com/o/oauth2/auth?client_id=947318989803-6bn6qk8qdgf4n4g3pfee6491hc0brc4i.apps.googleusercontent.com&redirect_uri=urn%3Aietf%3Awg%3Aoauth%3A2.0%3Aoob&scope=email%20https%3A%2F%2Fwww.googleapis.com%2Fauth%2Fdocs.test%20https%3A%2F%2Fwww.googleapis.com%2Fauth%2Fdrive%20https%3A%2F%2Fwww.googleapis.com%2Fauth%2Fdrive.photos.readonly%20https%3A%2F%2Fwww.googleapis.com%2Fauth%2Fpeopleapi.readonly&response_type=code\n",
            "\n",
            "Enter your authorization code:\n",
            "··········\n",
            "Mounted at /content/gdrive\n"
          ],
          "name": "stdout"
        }
      ]
    },
    {
      "metadata": {
        "id": "i1XAGdA0daXe",
        "colab_type": "text"
      },
      "cell_type": "markdown",
      "source": [
        "##Problem definition and context\n",
        "The purpose of this small project is to apply simple data transformations and machine learning techniques in order to predict the expected salary of people person given a few descriptors such as their job title, their education and their experience.\n",
        "\n",
        "While the dataset examined here is a heavily simplified data model of a real-world job market, the procedures implemented here should be easily transferable to more complex scenarios and with a richer variety of categories."
      ]
    },
    {
      "metadata": {
        "id": "OH-mpz94daXv",
        "colab_type": "text"
      },
      "cell_type": "markdown",
      "source": [
        "## The Data\n",
        "\n",
        "The data we will work on in this project are:\n",
        "- 1,000,000 training examples, complete with salary information\n",
        "- 1,000,000 test examples, with no salary information attached\n",
        "\n",
        "As we will see when looking at the properties of each feature, at a first look the data seem to have been machine-generated over a uniform distribution. We will expect a lot of noise barring us from predicting the target with very high accuracy. Nevertheless, the data do show some interesting pattern that will eventually drive our hypotheses in building an appropriate model.\n",
        "\n",
        "Let's start by loading and having a first glance at the data."
      ]
    },
    {
      "metadata": {
        "id": "bGpnFvPfdaXl",
        "colab_type": "code",
        "colab": {}
      },
      "cell_type": "code",
      "source": [
        "# Libraries we are going to use for EDA\n",
        "import pandas as pd\n",
        "import seaborn as sb\n",
        "\n",
        "__author__ = \"Francesco Rinarelli\"\n",
        "__email__ = \"f.rinarelli@gmail.com\""
      ],
      "execution_count": 0,
      "outputs": []
    },
    {
      "metadata": {
        "id": "mzN_jpMjdaX2",
        "colab_type": "code",
        "colab": {}
      },
      "cell_type": "code",
      "source": [
        "# Loading the data to cloud storage\n",
        "#test_feat = pd.read_csv(\"/content/gdrive/My Drive/data/test_features.csv\")\n",
        "train_feat = pd.read_csv(\"/content/gdrive/My Drive/data/train_features.csv\")\n",
        "#train_salaries = pd.read_csv(\"/content/gdrive/My Drive/data/train_salaries.csv\")"
      ],
      "execution_count": 0,
      "outputs": []
    },
    {
      "metadata": {
        "id": "oD8CY_L69DVd",
        "colab_type": "code",
        "colab": {
          "base_uri": "https://localhost:8080/",
          "height": 206
        },
        "outputId": "b4eb6dff-2a57-4f21-dcb8-30a212bfa7b8"
      },
      "cell_type": "code",
      "source": [
        "test_feat.head()"
      ],
      "execution_count": 7,
      "outputs": [
        {
          "output_type": "execute_result",
          "data": {
            "text/html": [
              "<div>\n",
              "<style scoped>\n",
              "    .dataframe tbody tr th:only-of-type {\n",
              "        vertical-align: middle;\n",
              "    }\n",
              "\n",
              "    .dataframe tbody tr th {\n",
              "        vertical-align: top;\n",
              "    }\n",
              "\n",
              "    .dataframe thead th {\n",
              "        text-align: right;\n",
              "    }\n",
              "</style>\n",
              "<table border=\"1\" class=\"dataframe\">\n",
              "  <thead>\n",
              "    <tr style=\"text-align: right;\">\n",
              "      <th></th>\n",
              "      <th>jobId</th>\n",
              "      <th>companyId</th>\n",
              "      <th>jobType</th>\n",
              "      <th>degree</th>\n",
              "      <th>major</th>\n",
              "      <th>industry</th>\n",
              "      <th>yearsExperience</th>\n",
              "      <th>milesFromMetropolis</th>\n",
              "    </tr>\n",
              "  </thead>\n",
              "  <tbody>\n",
              "    <tr>\n",
              "      <th>0</th>\n",
              "      <td>JOB1362685407687</td>\n",
              "      <td>COMP33</td>\n",
              "      <td>MANAGER</td>\n",
              "      <td>HIGH_SCHOOL</td>\n",
              "      <td>NONE</td>\n",
              "      <td>HEALTH</td>\n",
              "      <td>22</td>\n",
              "      <td>73</td>\n",
              "    </tr>\n",
              "    <tr>\n",
              "      <th>1</th>\n",
              "      <td>JOB1362685407688</td>\n",
              "      <td>COMP13</td>\n",
              "      <td>JUNIOR</td>\n",
              "      <td>NONE</td>\n",
              "      <td>NONE</td>\n",
              "      <td>AUTO</td>\n",
              "      <td>20</td>\n",
              "      <td>47</td>\n",
              "    </tr>\n",
              "    <tr>\n",
              "      <th>2</th>\n",
              "      <td>JOB1362685407689</td>\n",
              "      <td>COMP10</td>\n",
              "      <td>CTO</td>\n",
              "      <td>MASTERS</td>\n",
              "      <td>BIOLOGY</td>\n",
              "      <td>HEALTH</td>\n",
              "      <td>17</td>\n",
              "      <td>9</td>\n",
              "    </tr>\n",
              "    <tr>\n",
              "      <th>3</th>\n",
              "      <td>JOB1362685407690</td>\n",
              "      <td>COMP21</td>\n",
              "      <td>MANAGER</td>\n",
              "      <td>HIGH_SCHOOL</td>\n",
              "      <td>NONE</td>\n",
              "      <td>OIL</td>\n",
              "      <td>14</td>\n",
              "      <td>96</td>\n",
              "    </tr>\n",
              "    <tr>\n",
              "      <th>4</th>\n",
              "      <td>JOB1362685407691</td>\n",
              "      <td>COMP36</td>\n",
              "      <td>JUNIOR</td>\n",
              "      <td>DOCTORAL</td>\n",
              "      <td>BIOLOGY</td>\n",
              "      <td>OIL</td>\n",
              "      <td>10</td>\n",
              "      <td>44</td>\n",
              "    </tr>\n",
              "  </tbody>\n",
              "</table>\n",
              "</div>"
            ],
            "text/plain": [
              "              jobId companyId  jobType       degree    major industry  \\\n",
              "0  JOB1362685407687    COMP33  MANAGER  HIGH_SCHOOL     NONE   HEALTH   \n",
              "1  JOB1362685407688    COMP13   JUNIOR         NONE     NONE     AUTO   \n",
              "2  JOB1362685407689    COMP10      CTO      MASTERS  BIOLOGY   HEALTH   \n",
              "3  JOB1362685407690    COMP21  MANAGER  HIGH_SCHOOL     NONE      OIL   \n",
              "4  JOB1362685407691    COMP36   JUNIOR     DOCTORAL  BIOLOGY      OIL   \n",
              "\n",
              "   yearsExperience  milesFromMetropolis  \n",
              "0               22                   73  \n",
              "1               20                   47  \n",
              "2               17                    9  \n",
              "3               14                   96  \n",
              "4               10                   44  "
            ]
          },
          "metadata": {
            "tags": []
          },
          "execution_count": 7
        }
      ]
    },
    {
      "metadata": {
        "id": "rVedZ7x4daYc",
        "colab_type": "text"
      },
      "cell_type": "markdown",
      "source": [
        "As we can see, the features table has eight columns. The first column, jobId, seems to be a key value. We will check that there are no duplicate items in it."
      ]
    },
    {
      "metadata": {
        "id": "R2PPx_aUdaYu",
        "colab_type": "code",
        "colab": {}
      },
      "cell_type": "code",
      "source": [
        "#check for duplicate jobId's\n",
        "assert train_feat.jobId.nunique() == train_feat.jobId.count()\n",
        "assert test_feat.jobId.nunique() == test_feat.jobId.count()"
      ],
      "execution_count": 0,
      "outputs": []
    },
    {
      "metadata": {
        "id": "_9NOPbzpuV_L",
        "colab_type": "text"
      },
      "cell_type": "markdown",
      "source": [
        "*companyId*, *jobType*, *degree*, *major* and *industry* are all categorical features, and they all seem quite self-explanatory. Other two columns, *yearsExperience* and *milesFromMetropolis* are continuous values.\n",
        "\n",
        "We should perform a few sanity checks on the columns, to see whether there are NA values, or values that are out of the expected range - e.g. negative YearsExperience or milesFrom Metropolis."
      ]
    },
    {
      "metadata": {
        "id": "5KkvfkZevMeM",
        "colab_type": "code",
        "colab": {
          "base_uri": "https://localhost:8080/",
          "height": 109
        },
        "outputId": "33873b57-bf64-47a3-da5c-ee7b977042c5"
      },
      "cell_type": "code",
      "source": [
        "# Are there blank values for any of the columns?\n",
        "if not (train_feat.isnull().values.any() or test_feat.isnull().values.any()):\n",
        "    print(\"there are no NA values in both train and test tables\")\n",
        "    \n",
        "# Are there any blank values in the salaries table?\n",
        "if not (train_salaries.isnull().values.any()):\n",
        "    print(\"there are no NA values in the salaries table\")\n",
        "    \n",
        "# Check for negative values on continuous features\n",
        "print(train_feat[train_feat.milesFromMetropolis < 0].values)\n",
        "print(train_feat[train_feat.yearsExperience < 0].values)\n",
        "print(train_salaries[train_salaries.salary < 0].values)\n"
      ],
      "execution_count": 40,
      "outputs": [
        {
          "output_type": "stream",
          "text": [
            "there are no NA values in both train and test tables\n",
            "there are no NA values in the salaries table\n",
            "[]\n",
            "[]\n",
            "[]\n"
          ],
          "name": "stdout"
        }
      ]
    },
    {
      "metadata": {
        "id": "ruDPKLvN0Yse",
        "colab_type": "text"
      },
      "cell_type": "markdown",
      "source": [
        "It seems that there are no macroscopical errors in the data.\n",
        "\n",
        "Let's now try to explore more in detail the features. Since there are not so many, a direct approach for each of them will work finely."
      ]
    },
    {
      "metadata": {
        "id": "442JsUAF5TvA",
        "colab_type": "code",
        "colab": {
          "base_uri": "https://localhost:8080/",
          "height": 127
        },
        "outputId": "4249a944-8936-4e28-eb75-107d037d6fec"
      },
      "cell_type": "code",
      "source": [
        "# How many unique values for each categorial feature?\n",
        "test_feat[[\"companyId\", \"jobType\", \"degree\", \"major\", \"industry\"]].nunique()"
      ],
      "execution_count": 68,
      "outputs": [
        {
          "output_type": "execute_result",
          "data": {
            "text/plain": [
              "companyId    63\n",
              "jobType       8\n",
              "degree        5\n",
              "major         9\n",
              "industry      7\n",
              "dtype: int64"
            ]
          },
          "metadata": {
            "tags": []
          },
          "execution_count": 68
        }
      ]
    },
    {
      "metadata": {
        "id": "iIdM8dy06ezF",
        "colab_type": "text"
      },
      "cell_type": "markdown",
      "source": [
        "There are 63 companies involved, 8 different job titles, 5 levels of education, 9 majors (including the \"none\" major for employees with no college degree), and 7 industries.\n",
        "\n",
        "Of course, there must have been an intense work of simplification, as we are only dealing with 7 possible job types, but let's assume this does not affect significantly the expressivity of the data.\n",
        "\n",
        "We might of course ask whether companies have all the same number of employees. This is an easy check."
      ]
    },
    {
      "metadata": {
        "id": "_2BcANMD7wQ5",
        "colab_type": "code",
        "colab": {
          "base_uri": "https://localhost:8080/",
          "height": 416
        },
        "outputId": "7f165d27-a9be-4a5f-c78f-779119465192"
      },
      "cell_type": "code",
      "source": [
        "sb.countplot(train_feat.companyId)"
      ],
      "execution_count": 69,
      "outputs": [
        {
          "output_type": "stream",
          "text": [
            "/usr/local/lib/python3.6/dist-packages/seaborn/categorical.py:1428: FutureWarning: remove_na is deprecated and is a private function. Do not use.\n",
            "  stat_data = remove_na(group_data)\n"
          ],
          "name": "stderr"
        },
        {
          "output_type": "execute_result",
          "data": {
            "text/plain": [
              "<matplotlib.axes._subplots.AxesSubplot at 0x7fe4930bdbe0>"
            ]
          },
          "metadata": {
            "tags": []
          },
          "execution_count": 69
        },
        {
          "output_type": "display_data",
          "data": {
            "image/png": "[encoded data removed]",
            "text/plain": [
              "<Figure size 576x396 with 1 Axes>"
            ]
          },
          "metadata": {
            "tags": []
          }
        }
      ]
    },
    {
      "metadata": {
        "id": "27g6SZ9C9rwo",
        "colab_type": "text"
      },
      "cell_type": "markdown",
      "source": [
        "It seems that all 63 companies have more or less the same number of employees, which is strange! At least, we can say that company size is probably not going to affect predictions much."
      ]
    },
    {
      "metadata": {
        "id": "-61UFlyEdaX9",
        "colab_type": "code",
        "outputId": "e3f1efc3-7b78-4ac3-8d34-e722d6d69036",
        "colab": {
          "base_uri": "https://localhost:8080/",
          "height": 490
        }
      },
      "cell_type": "code",
      "source": [
        "sb.countplot(train_feat.jobType)\n",
        "train_feat.jobType.describe()"
      ],
      "execution_count": 70,
      "outputs": [
        {
          "output_type": "stream",
          "text": [
            "/usr/local/lib/python3.6/dist-packages/seaborn/categorical.py:1428: FutureWarning: remove_na is deprecated and is a private function. Do not use.\n",
            "  stat_data = remove_na(group_data)\n"
          ],
          "name": "stderr"
        },
        {
          "output_type": "execute_result",
          "data": {
            "text/plain": [
              "count     1000000\n",
              "unique          8\n",
              "top        SENIOR\n",
              "freq       125886\n",
              "Name: jobType, dtype: object"
            ]
          },
          "metadata": {
            "tags": []
          },
          "execution_count": 70
        },
        {
          "output_type": "display_data",
          "data": {
            "image/png": "[encoded data removed]",
            "text/plain": [
              "<Figure size 576x396 with 1 Axes>"
            ]
          },
          "metadata": {
            "tags": []
          }
        }
      ]
    },
    {
      "metadata": {
        "id": "WaI5TsD4-AxD",
        "colab_type": "text"
      },
      "cell_type": "markdown",
      "source": [
        "The job titles are also, curiosly, evenly distributed. Indeed, we can verify the same with industry, yearsExperience and milesFromMetropolis."
      ]
    },
    {
      "metadata": {
        "id": "GFUiwzoPdaYR",
        "colab_type": "code",
        "outputId": "75d7e8fd-cb4e-4407-8c71-1774fb191b5b",
        "colab": {
          "base_uri": "https://localhost:8080/",
          "height": 416
        }
      },
      "cell_type": "code",
      "source": [
        "sb.countplot(train_feat.degree)"
      ],
      "execution_count": 76,
      "outputs": [
        {
          "output_type": "stream",
          "text": [
            "/usr/local/lib/python3.6/dist-packages/seaborn/categorical.py:1428: FutureWarning: remove_na is deprecated and is a private function. Do not use.\n",
            "  stat_data = remove_na(group_data)\n"
          ],
          "name": "stderr"
        },
        {
          "output_type": "execute_result",
          "data": {
            "text/plain": [
              "<matplotlib.axes._subplots.AxesSubplot at 0x7fe492d8ce80>"
            ]
          },
          "metadata": {
            "tags": []
          },
          "execution_count": 76
        },
        {
          "output_type": "display_data",
          "data": {
            "image/png": "[encoded data removed]",
            "text/plain": [
              "<Figure size 576x396 with 1 Axes>"
            ]
          },
          "metadata": {
            "tags": []
          }
        }
      ]
    },
    {
      "metadata": {
        "id": "9rN8jCZUAO6q",
        "colab_type": "text"
      },
      "cell_type": "markdown",
      "source": [
        "Degree and major are different. Both are biased towards the lower levels of education, with NONE being around ten times more frequent than all other majors and \"high school\" and \"none\" being the most frequent values among the *degree* categories.\n",
        "\n",
        "How are *degree* and *major* correlated?"
      ]
    },
    {
      "metadata": {
        "id": "wcRMuIO1BBD6",
        "colab_type": "code",
        "colab": {
          "base_uri": "https://localhost:8080/",
          "height": 439
        },
        "outputId": "3e53c5ad-9971-430b-d493-4bf01dabeed7"
      },
      "cell_type": "code",
      "source": [
        "pivot = train_feat[[\"degree\",\"major\"]].pivot_table(index=\"degree\",columns=\"major\", aggfunc=len)\n",
        "sb.heatmap(pivot, annot=True)"
      ],
      "execution_count": 94,
      "outputs": [
        {
          "output_type": "execute_result",
          "data": {
            "text/plain": [
              "<matplotlib.axes._subplots.AxesSubplot at 0x7fe49189a828>"
            ]
          },
          "metadata": {
            "tags": []
          },
          "execution_count": 94
        },
        {
          "output_type": "display_data",
          "data": {
            "image/png": "[encoded data removed]",
            "text/plain": [
              "<Figure size 576x396 with 2 Axes>"
            ]
          },
          "metadata": {
            "tags": []
          }
        }
      ]
    },
    {
      "metadata": {
        "id": "VKz1Z1H1GSBS",
        "colab_type": "text"
      },
      "cell_type": "markdown",
      "source": [
        "As expected, all employees with no degree or just high-school education will have \"none\" as major, but the reverse is not true: \"none\" seems to be just as likely as any other major value for all the higher education levels.\n",
        "\n",
        "Let's now have a look at the salary. Hopefully, it is not uniformly distributed as many of the features."
      ]
    },
    {
      "metadata": {
        "id": "YvS55UoydaY2",
        "colab_type": "code",
        "outputId": "5a4507ea-7565-4707-b281-8a15297d6ed3",
        "colab": {
          "base_uri": "https://localhost:8080/",
          "height": 420
        }
      },
      "cell_type": "code",
      "source": [
        "#How are salary distributed in general? Let's fit the series with a Beta distribution\n",
        "from scipy.stats import norm, beta, normaltest\n",
        "sb.distplot(tuple(train_salaries.salary), fit=beta)\n",
        "#check for normality\n",
        "print(normaltest(train_salaries.salary))"
      ],
      "execution_count": 0,
      "outputs": [
        {
          "output_type": "stream",
          "text": [
            "/usr/local/lib/python3.6/dist-packages/matplotlib/axes/_axes.py:6521: MatplotlibDeprecationWarning: \n",
            "The 'normed' kwarg was deprecated in Matplotlib 2.1 and will be removed in 3.1. Use 'density' instead.\n",
            "  alternative=\"'density'\", removal=\"3.1\")\n"
          ],
          "name": "stderr"
        },
        {
          "output_type": "stream",
          "text": [
            "NormaltestResult(statistic=18943.965939478327, pvalue=0.0)\n"
          ],
          "name": "stdout"
        },
        {
          "output_type": "display_data",
          "data": {
            "image/png": "[encoded data removed]",
            "text/plain": [
              "<Figure size 576x396 with 1 Axes>"
            ]
          },
          "metadata": {
            "tags": []
          }
        }
      ]
    },
    {
      "metadata": {
        "id": "X-rYiaPrHI5j",
        "colab_type": "text"
      },
      "cell_type": "markdown",
      "source": [
        "As we can see, salaries seems to be distributed with a central distribution. Performing a simple normality test makes us exclude the hypothesis that salaries are normally distributed - they possibly follow a beta distribution with a good amount of right skeweness - relatively many very high salaries.\n",
        "\n",
        "###Relation of the features with the target\n",
        "\n",
        "We can now move to explore in some detail the possible relations of each of the features with the salary. We hope to extract some useful information in order to formulate an educated hypothesis on the models to consider for the prediction.\n",
        "\n",
        "Let's start by creating a joint table for features and the salary."
      ]
    },
    {
      "metadata": {
        "id": "3gUV8LyUdaY_",
        "colab_type": "code",
        "colab": {}
      },
      "cell_type": "code",
      "source": [
        "#For practical convenience of EDA, let's unite the features and the target\n",
        "train_feat_salary = pd.merge(train_feat,train_salaries,how=\"left\",on=\"jobId\")"
      ],
      "execution_count": 0,
      "outputs": []
    },
    {
      "metadata": {
        "id": "mC3FaGAhdaZD",
        "colab_type": "code",
        "outputId": "a7402edc-3c86-47fa-f4b1-f2b2e6dbbf0f",
        "colab": {
          "base_uri": "https://localhost:8080/",
          "height": 206
        }
      },
      "cell_type": "code",
      "source": [
        "train_feat_salary.head()"
      ],
      "execution_count": 0,
      "outputs": [
        {
          "output_type": "execute_result",
          "data": {
            "text/html": [
              "<div>\n",
              "<style scoped>\n",
              "    .dataframe tbody tr th:only-of-type {\n",
              "        vertical-align: middle;\n",
              "    }\n",
              "\n",
              "    .dataframe tbody tr th {\n",
              "        vertical-align: top;\n",
              "    }\n",
              "\n",
              "    .dataframe thead th {\n",
              "        text-align: right;\n",
              "    }\n",
              "</style>\n",
              "<table border=\"1\" class=\"dataframe\">\n",
              "  <thead>\n",
              "    <tr style=\"text-align: right;\">\n",
              "      <th></th>\n",
              "      <th>jobId</th>\n",
              "      <th>companyId</th>\n",
              "      <th>jobType</th>\n",
              "      <th>degree</th>\n",
              "      <th>major</th>\n",
              "      <th>industry</th>\n",
              "      <th>yearsExperience</th>\n",
              "      <th>milesFromMetropolis</th>\n",
              "      <th>salary</th>\n",
              "    </tr>\n",
              "  </thead>\n",
              "  <tbody>\n",
              "    <tr>\n",
              "      <th>0</th>\n",
              "      <td>JOB1362684407687</td>\n",
              "      <td>COMP37</td>\n",
              "      <td>CFO</td>\n",
              "      <td>MASTERS</td>\n",
              "      <td>MATH</td>\n",
              "      <td>HEALTH</td>\n",
              "      <td>10</td>\n",
              "      <td>83</td>\n",
              "      <td>130</td>\n",
              "    </tr>\n",
              "    <tr>\n",
              "      <th>1</th>\n",
              "      <td>JOB1362684407688</td>\n",
              "      <td>COMP19</td>\n",
              "      <td>CEO</td>\n",
              "      <td>HIGH_SCHOOL</td>\n",
              "      <td>NONE</td>\n",
              "      <td>WEB</td>\n",
              "      <td>3</td>\n",
              "      <td>73</td>\n",
              "      <td>101</td>\n",
              "    </tr>\n",
              "    <tr>\n",
              "      <th>2</th>\n",
              "      <td>JOB1362684407689</td>\n",
              "      <td>COMP52</td>\n",
              "      <td>VICE_PRESIDENT</td>\n",
              "      <td>DOCTORAL</td>\n",
              "      <td>PHYSICS</td>\n",
              "      <td>HEALTH</td>\n",
              "      <td>10</td>\n",
              "      <td>38</td>\n",
              "      <td>137</td>\n",
              "    </tr>\n",
              "    <tr>\n",
              "      <th>3</th>\n",
              "      <td>JOB1362684407690</td>\n",
              "      <td>COMP38</td>\n",
              "      <td>MANAGER</td>\n",
              "      <td>DOCTORAL</td>\n",
              "      <td>CHEMISTRY</td>\n",
              "      <td>AUTO</td>\n",
              "      <td>8</td>\n",
              "      <td>17</td>\n",
              "      <td>142</td>\n",
              "    </tr>\n",
              "    <tr>\n",
              "      <th>4</th>\n",
              "      <td>JOB1362684407691</td>\n",
              "      <td>COMP7</td>\n",
              "      <td>VICE_PRESIDENT</td>\n",
              "      <td>BACHELORS</td>\n",
              "      <td>PHYSICS</td>\n",
              "      <td>FINANCE</td>\n",
              "      <td>8</td>\n",
              "      <td>16</td>\n",
              "      <td>163</td>\n",
              "    </tr>\n",
              "  </tbody>\n",
              "</table>\n",
              "</div>"
            ],
            "text/plain": [
              "              jobId companyId         jobType       degree      major  \\\n",
              "0  JOB1362684407687    COMP37             CFO      MASTERS       MATH   \n",
              "1  JOB1362684407688    COMP19             CEO  HIGH_SCHOOL       NONE   \n",
              "2  JOB1362684407689    COMP52  VICE_PRESIDENT     DOCTORAL    PHYSICS   \n",
              "3  JOB1362684407690    COMP38         MANAGER     DOCTORAL  CHEMISTRY   \n",
              "4  JOB1362684407691     COMP7  VICE_PRESIDENT    BACHELORS    PHYSICS   \n",
              "\n",
              "  industry  yearsExperience  milesFromMetropolis  salary  \n",
              "0   HEALTH               10                   83     130  \n",
              "1      WEB                3                   73     101  \n",
              "2   HEALTH               10                   38     137  \n",
              "3     AUTO                8                   17     142  \n",
              "4  FINANCE                8                   16     163  "
            ]
          },
          "metadata": {
            "tags": []
          },
          "execution_count": 44
        }
      ]
    },
    {
      "metadata": {
        "id": "aza7glW-daZg",
        "colab_type": "code",
        "outputId": "344b8275-12a2-493f-ad5f-3e74f9721873",
        "colab": {
          "base_uri": "https://localhost:8080/",
          "height": 416
        }
      },
      "cell_type": "code",
      "source": [
        "# Distributions of salaries over features can also be synthetically checked with boxplots,\n",
        "# in which it is easier to show whether a particular value of the features has a significantly\n",
        "# different mean or variance.\n",
        "sb.boxplot(x=\"industry\",y=\"salary\",data=train_feat_salary)"
      ],
      "execution_count": 11,
      "outputs": [
        {
          "output_type": "stream",
          "text": [
            "/usr/local/lib/python3.6/dist-packages/seaborn/categorical.py:454: FutureWarning: remove_na is deprecated and is a private function. Do not use.\n",
            "  box_data = remove_na(group_data)\n"
          ],
          "name": "stderr"
        },
        {
          "output_type": "execute_result",
          "data": {
            "text/plain": [
              "<matplotlib.axes._subplots.AxesSubplot at 0x7f15d6062160>"
            ]
          },
          "metadata": {
            "tags": []
          },
          "execution_count": 11
        },
        {
          "output_type": "display_data",
          "data": {
            "image/png": "[encoded data removed]",
            "text/plain": [
              "<Figure size 576x396 with 1 Axes>"
            ]
          },
          "metadata": {
            "tags": []
          }
        }
      ]
    },
    {
      "metadata": {
        "id": "x2GOFy8mdaZu",
        "colab_type": "code",
        "outputId": "d43f6da1-0a23-4974-8058-0f959c5030b3",
        "colab": {
          "base_uri": "https://localhost:8080/",
          "height": 35
        }
      },
      "cell_type": "code",
      "source": [
        "# Kruskal/Wallis nonparametric omnibus test, just to check whether\n",
        "# the differences seen above are significant\n",
        "from scipy.stats import kruskal\n",
        "\n",
        "#split the salary columns into different series by industry\n",
        "salary_industry_arr = []\n",
        "for ind in train_feat_salary[\"industry\"].unique():\n",
        "    salary_industry_arr.append(train_feat_salary[train_feat_salary.industry==ind].salary.values)\n",
        "\n",
        "#run the K/W test\n",
        "kruskal(*salary_industry_arr)"
      ],
      "execution_count": 0,
      "outputs": [
        {
          "output_type": "execute_result",
          "data": {
            "text/plain": [
              "KruskalResult(statistic=83284.30288773228, pvalue=0.0)"
            ]
          },
          "metadata": {
            "tags": []
          },
          "execution_count": 48
        }
      ]
    },
    {
      "metadata": {
        "id": "exXuWCJa4kpo",
        "colab_type": "code",
        "colab": {
          "base_uri": "https://localhost:8080/",
          "height": 416
        },
        "outputId": "9090a236-d8d7-4329-ecd7-99a2794b97f0"
      },
      "cell_type": "code",
      "source": [
        "sb.boxplot(x=\"major\",y=\"salary\",data=train_feat_salary)"
      ],
      "execution_count": 8,
      "outputs": [
        {
          "output_type": "stream",
          "text": [
            "/usr/local/lib/python3.6/dist-packages/seaborn/categorical.py:454: FutureWarning: remove_na is deprecated and is a private function. Do not use.\n",
            "  box_data = remove_na(group_data)\n"
          ],
          "name": "stderr"
        },
        {
          "output_type": "execute_result",
          "data": {
            "text/plain": [
              "<matplotlib.axes._subplots.AxesSubplot at 0x7f98124152e8>"
            ]
          },
          "metadata": {
            "tags": []
          },
          "execution_count": 8
        },
        {
          "output_type": "display_data",
          "data": {
            "image/png": "[encoded data removed]",
            "text/plain": [
              "<Figure size 576x396 with 1 Axes>"
            ]
          },
          "metadata": {
            "tags": []
          }
        }
      ]
    },
    {
      "metadata": {
        "id": "aYhK389K49FA",
        "colab_type": "code",
        "colab": {
          "base_uri": "https://localhost:8080/",
          "height": 416
        },
        "outputId": "f1fd46f3-1ff3-47eb-f9dc-bfa3a8110431"
      },
      "cell_type": "code",
      "source": [
        "sb.boxplot(x=\"jobType\",y=\"salary\",data=train_feat_salary)"
      ],
      "execution_count": 15,
      "outputs": [
        {
          "output_type": "stream",
          "text": [
            "/usr/local/lib/python3.6/dist-packages/seaborn/categorical.py:454: FutureWarning: remove_na is deprecated and is a private function. Do not use.\n",
            "  box_data = remove_na(group_data)\n"
          ],
          "name": "stderr"
        },
        {
          "output_type": "execute_result",
          "data": {
            "text/plain": [
              "<matplotlib.axes._subplots.AxesSubplot at 0x7f15d3a86358>"
            ]
          },
          "metadata": {
            "tags": []
          },
          "execution_count": 15
        },
        {
          "output_type": "display_data",
          "data": {
            "image/png": "[encoded data removed]",
            "text/plain": [
              "<Figure size 576x396 with 1 Axes>"
            ]
          },
          "metadata": {
            "tags": []
          }
        }
      ]
    },
    {
      "metadata": {
        "id": "PH50VFT6daZ8",
        "colab_type": "code",
        "outputId": "6e242754-aa1e-404e-c725-17fc81a0d998",
        "colab": {
          "base_uri": "https://localhost:8080/",
          "height": 559
        }
      },
      "cell_type": "code",
      "source": [
        "# We could try to extract more information from pair plots,\n",
        "# for example by checking whether there are any relations between\n",
        "# continuous variables and controlling by degree or industry\n",
        "sb.pairplot(train_feat_salary, hue=\"industry\", vars=[\"yearsExperience\",\"salary\",\"milesFromMetropolis\"], markers=\"+\")"
      ],
      "execution_count": 0,
      "outputs": [
        {
          "output_type": "execute_result",
          "data": {
            "text/plain": [
              "<seaborn.axisgrid.PairGrid at 0x7f1f779c5c18>"
            ]
          },
          "metadata": {
            "tags": []
          },
          "execution_count": 49
        },
        {
          "output_type": "display_data",
          "data": {
            "image/png": "[encoded data removed]",
            "text/plain": [
              "<Figure size 635x540 with 12 Axes>"
            ]
          },
          "metadata": {
            "tags": []
          }
        }
      ]
    },
    {
      "metadata": {
        "id": "kheYCxnMdaaG",
        "colab_type": "text"
      },
      "cell_type": "markdown",
      "source": [
        "###Defining a valid reference point for performance evaluation\n",
        "\n",
        "We need to establish a baseline in order to understand what value a ML model is adding to the processes of a typical company that might use salary data like these.\n",
        "\n",
        "In this case, we can assume that an hypothetical company owning the current dataset has already created **relatively simple tables** with the average salary for a certain number of clusters of jobs.\n",
        "\n",
        "How to choose which segments are relevant to build such a table?\n",
        "Again, we are assuming that the table size must be a *good compromise between accuracy and usability* - we do not want to manage thousands of different segments.\n",
        "\n",
        "Based on the box plots above, we see that a good part of the variance seems to be explained by the differences in **Job Title** and in **Industry**. Of course, having a major in STEM versus not having a degree also seems to have statistically significant effects, but we do not want to make the reference table unwieldy for the users.\n",
        "\n",
        "Let's try then to create a reference table of salaries by industry and job title. This should result in a 7x8 table, simple enough for manual consultation."
      ]
    },
    {
      "metadata": {
        "id": "68UuYPiMdaaW",
        "colab_type": "code",
        "outputId": "74c011a0-96e2-480d-bbbf-7dc822de33f8",
        "colab": {
          "base_uri": "https://localhost:8080/",
          "height": 35
        }
      },
      "cell_type": "code",
      "source": [
        "# We create a toy model based on what we have seen before.\n",
        "# We will ignore the slight cap effect of experience and distance from the city for now.\n",
        "# We will use a 8x7 table created by crossing the major with the industry\n",
        "\n",
        "# We will use the Mean Squared Error to assess the performance of the model,\n",
        "# through a 5-fold crossvalidation\n",
        "import numpy as np\n",
        "from sklearn.model_selection import KFold\n",
        "\n",
        "five_fold_cv = KFold(n_splits=5, shuffle=True)\n",
        "\n",
        "MSE = 0\n",
        "\n",
        "# TRAINING/VALIDATION FOLD\n",
        "for i in range(5):\n",
        "    split = next(five_fold_cv.split(train_feat_salary))\n",
        "    this_train_set = train_feat_salary.iloc[split[0]][[\"jobType\",\"industry\",\"salary\"]]\n",
        "    this_valid_set = train_feat_salary.iloc[split[1]][[\"jobType\",\"industry\",\"salary\"]]\n",
        "    \n",
        "    # \"TRAINING\"\n",
        "    # create the table-model (n major values x m industry values)\n",
        "    ref_table = this_train_set.groupby([\"jobType\",\"industry\"])[\"salary\"].mean().reset_index()\n",
        "\n",
        "    # \"VALIDATION\"\n",
        "    # split the validation set in features and target\n",
        "    # then estimate the salary based on the table above\n",
        "    valid_salary = this_valid_set.pop(\"salary\").values\n",
        "    est_salary = this_valid_set[[\"jobType\",\"industry\"]].merge(ref_table, how=\"left\").salary.values\n",
        "        \n",
        "    MSE += np.mean((valid_salary - est_salary)**2)\n",
        "\n",
        "# Calculate the average MSE of the 5-fold CV\n",
        "baseline_MSE = MSE/5\n",
        "print(baseline_MSE)"
      ],
      "execution_count": 11,
      "outputs": [
        {
          "output_type": "stream",
          "text": [
            "834.8895481638692\n"
          ],
          "name": "stdout"
        }
      ]
    },
    {
      "metadata": {
        "id": "ky_1XyJC9XAB",
        "colab_type": "text"
      },
      "cell_type": "markdown",
      "source": [
        "As we can see, using a relatively simple reference table, which does not even use all of the features, we are able to obtain a Mean Square Error of slightly above 800. Roughly speaking, we should expect to guess a salary within a range of +/- 29k dollars, which is the square root of the error.\n",
        "\n",
        "Is it good enough? A heuristic metrics to judge the goodness of this error could be to compare the root mean squared error with the standard deviation of salary for the general population:"
      ]
    },
    {
      "metadata": {
        "id": "5qkcxSJP_Vqg",
        "colab_type": "code",
        "colab": {
          "base_uri": "https://localhost:8080/",
          "height": 35
        },
        "outputId": "0146b940-f42c-4409-f3fc-808b37d4d42f"
      },
      "cell_type": "code",
      "source": [
        "np.sqrt(baseline_MSE)/valid_salary.std()"
      ],
      "execution_count": 14,
      "outputs": [
        {
          "output_type": "execute_result",
          "data": {
            "text/plain": [
              "0.7461937828438913"
            ]
          },
          "metadata": {
            "tags": []
          },
          "execution_count": 14
        }
      ]
    },
    {
      "metadata": {
        "id": "rqUVyh8JAY6v",
        "colab_type": "text"
      },
      "cell_type": "markdown",
      "source": [
        "The RMSE is 74% of the standard deviation. This is of course an improvement, but definitely not a major one. Can we do better, say at least below 50%? This would correspond to a MSE of around 370."
      ]
    },
    {
      "metadata": {
        "id": "CCkad5hABI4e",
        "colab_type": "code",
        "colab": {
          "base_uri": "https://localhost:8080/",
          "height": 35
        },
        "outputId": "cd766671-3b4b-4e96-b5c2-7789bfb8d05b"
      },
      "cell_type": "code",
      "source": [
        "(0.5*valid_salary.std())**2"
      ],
      "execution_count": 19,
      "outputs": [
        {
          "output_type": "execute_result",
          "data": {
            "text/plain": [
              "374.85713397144315"
            ]
          },
          "metadata": {
            "tags": []
          },
          "execution_count": 19
        }
      ]
    },
    {
      "metadata": {
        "id": "EtKAJB-rdaac",
        "colab_type": "text"
      },
      "cell_type": "markdown",
      "source": [
        "##Looking for better solutions"
      ]
    },
    {
      "metadata": {
        "id": "YzD7P7Lidaal",
        "colab_type": "text"
      },
      "cell_type": "markdown",
      "source": [
        "The table-based model above (with only about 60 parameters) performs decently with a validation MSE just above 1000, but clearly it makes not use of several features in the model, most notably:\n",
        "1. linear cap effects of experience (ascending) and distance from the city (descending)\n",
        "2. peculiarities of each company\n",
        "3. job seniority\n",
        "In fact, it does not take into account any feature interaction other than the couple major/industry.\n",
        "\n",
        "With 1 million rows and virtually no unbalances in the value distributions for each feature, the dataset is robust enough to be attacked with several high bias learning algorithms, including neural networks, with sufficient regularization.\n",
        "Other choices might include:\n",
        " - Linear regression models, possibly regularized models such as Lasso or Ridge. This has the advantage of having minimal training times, but we expect a higher bias\n",
        " - Decision (regression) trees regressors, in particular in ensemble (e.g. Random Forests). This class of models is known to perform fairly well on a wide range of problems\n",
        "\n",
        "It might be useful to consider the nature of the dataset, which has mixed categorical/numerical features.\n",
        "Using neural networks, kNNs or random forests through sklearn requires transforming the categorical variables into dummy variable or one-hot encoded factors.\n",
        "If you want to preserve categories as they are and use RF, you might avail of H20, which boasts one of the fastest RF algorithms and can handle categories natively. (http://docs.h2o.ai)\n",
        "\n",
        "We will keep on with sklearn and proceed to engineer our dataset this time."
      ]
    },
    {
      "metadata": {
        "id": "HtXowfeNdaao",
        "colab_type": "text"
      },
      "cell_type": "markdown",
      "source": [
        "### Engineering features\n",
        "\n",
        "Considering the three models we are going to test, and the number of training examples, we could operate two simple transformations:\n",
        "\n",
        "1.  **\"Dummify\" the categorical features**: transform each categorical variable into binary features. Since we are going to use linear models such as Lasso and Ridge, to minimize the risk of multicollinearity it is better to use a dummy strategy, that is, reduce the number of features into n-1 categories, so that the nth is not construed as the linear combination of the others (regularization should take care of this problem already, to some extent)\n",
        "2.  **Normalize the features**: with the exception of the dummies, all the continuous features. It is not necessary to normalize the target value (why? See [here](https://stats.stackexchange.com/questions/111467/is-it-necessary-to-scale-the-target-value-in-addition-to-scaling-features-for-re)) \n",
        "\n",
        "After applying these transformations, we can finally detach the salary into the target, to be fed into our models.\n",
        "\n",
        "An important action we should take before experimenting with our models is to prepare a small validation set. Even if we are going to use cross-validation for Random Forests and Lasso/Ridge, it is safer to reserve  small portion of the data to have a final validation with examples that have not been used for parameter tuning.\n",
        "Of course, we *are not going to use the validation score to adjust parameters*. It will be the final, official score of each model."
      ]
    },
    {
      "metadata": {
        "id": "V_PTlwotdaao",
        "colab_type": "code",
        "outputId": "984afa95-8076-4e7e-acab-0dd8ea0fc1ba",
        "colab": {
          "base_uri": "https://localhost:8080/",
          "height": 256
        }
      },
      "cell_type": "code",
      "source": [
        "# One-hot encoding pure categorical data\n",
        "train_feat_salary = train_feat_salary.copy()\n",
        "for feat in [\"jobType\",\"degree\",\"major\",\"companyId\",\"industry\"]:\n",
        "    train_feat_salary = pd.concat([train_feat_salary, pd.get_dummies(train_feat_salary[feat])],axis=1)\n",
        "    train_feat_salary = train_feat_salary.drop(columns=[feat])\n",
        "train_feat_salary.head()"
      ],
      "execution_count": 25,
      "outputs": [
        {
          "output_type": "execute_result",
          "data": {
            "text/html": [
              "<div>\n",
              "<style scoped>\n",
              "    .dataframe tbody tr th:only-of-type {\n",
              "        vertical-align: middle;\n",
              "    }\n",
              "\n",
              "    .dataframe tbody tr th {\n",
              "        vertical-align: top;\n",
              "    }\n",
              "\n",
              "    .dataframe thead th {\n",
              "        text-align: right;\n",
              "    }\n",
              "</style>\n",
              "<table border=\"1\" class=\"dataframe\">\n",
              "  <thead>\n",
              "    <tr style=\"text-align: right;\">\n",
              "      <th></th>\n",
              "      <th>jobId</th>\n",
              "      <th>yearsExperience</th>\n",
              "      <th>milesFromMetropolis</th>\n",
              "      <th>salary</th>\n",
              "      <th>CEO</th>\n",
              "      <th>CFO</th>\n",
              "      <th>CTO</th>\n",
              "      <th>JANITOR</th>\n",
              "      <th>JUNIOR</th>\n",
              "      <th>MANAGER</th>\n",
              "      <th>...</th>\n",
              "      <th>COMP7</th>\n",
              "      <th>COMP8</th>\n",
              "      <th>COMP9</th>\n",
              "      <th>AUTO</th>\n",
              "      <th>EDUCATION</th>\n",
              "      <th>FINANCE</th>\n",
              "      <th>HEALTH</th>\n",
              "      <th>OIL</th>\n",
              "      <th>SERVICE</th>\n",
              "      <th>WEB</th>\n",
              "    </tr>\n",
              "  </thead>\n",
              "  <tbody>\n",
              "    <tr>\n",
              "      <th>0</th>\n",
              "      <td>JOB1362684407687</td>\n",
              "      <td>10</td>\n",
              "      <td>83</td>\n",
              "      <td>130</td>\n",
              "      <td>0</td>\n",
              "      <td>1</td>\n",
              "      <td>0</td>\n",
              "      <td>0</td>\n",
              "      <td>0</td>\n",
              "      <td>0</td>\n",
              "      <td>...</td>\n",
              "      <td>0</td>\n",
              "      <td>0</td>\n",
              "      <td>0</td>\n",
              "      <td>0</td>\n",
              "      <td>0</td>\n",
              "      <td>0</td>\n",
              "      <td>1</td>\n",
              "      <td>0</td>\n",
              "      <td>0</td>\n",
              "      <td>0</td>\n",
              "    </tr>\n",
              "    <tr>\n",
              "      <th>1</th>\n",
              "      <td>JOB1362684407688</td>\n",
              "      <td>3</td>\n",
              "      <td>73</td>\n",
              "      <td>101</td>\n",
              "      <td>1</td>\n",
              "      <td>0</td>\n",
              "      <td>0</td>\n",
              "      <td>0</td>\n",
              "      <td>0</td>\n",
              "      <td>0</td>\n",
              "      <td>...</td>\n",
              "      <td>0</td>\n",
              "      <td>0</td>\n",
              "      <td>0</td>\n",
              "      <td>0</td>\n",
              "      <td>0</td>\n",
              "      <td>0</td>\n",
              "      <td>0</td>\n",
              "      <td>0</td>\n",
              "      <td>0</td>\n",
              "      <td>1</td>\n",
              "    </tr>\n",
              "    <tr>\n",
              "      <th>2</th>\n",
              "      <td>JOB1362684407689</td>\n",
              "      <td>10</td>\n",
              "      <td>38</td>\n",
              "      <td>137</td>\n",
              "      <td>0</td>\n",
              "      <td>0</td>\n",
              "      <td>0</td>\n",
              "      <td>0</td>\n",
              "      <td>0</td>\n",
              "      <td>0</td>\n",
              "      <td>...</td>\n",
              "      <td>0</td>\n",
              "      <td>0</td>\n",
              "      <td>0</td>\n",
              "      <td>0</td>\n",
              "      <td>0</td>\n",
              "      <td>0</td>\n",
              "      <td>1</td>\n",
              "      <td>0</td>\n",
              "      <td>0</td>\n",
              "      <td>0</td>\n",
              "    </tr>\n",
              "    <tr>\n",
              "      <th>3</th>\n",
              "      <td>JOB1362684407690</td>\n",
              "      <td>8</td>\n",
              "      <td>17</td>\n",
              "      <td>142</td>\n",
              "      <td>0</td>\n",
              "      <td>0</td>\n",
              "      <td>0</td>\n",
              "      <td>0</td>\n",
              "      <td>0</td>\n",
              "      <td>1</td>\n",
              "      <td>...</td>\n",
              "      <td>0</td>\n",
              "      <td>0</td>\n",
              "      <td>0</td>\n",
              "      <td>1</td>\n",
              "      <td>0</td>\n",
              "      <td>0</td>\n",
              "      <td>0</td>\n",
              "      <td>0</td>\n",
              "      <td>0</td>\n",
              "      <td>0</td>\n",
              "    </tr>\n",
              "    <tr>\n",
              "      <th>4</th>\n",
              "      <td>JOB1362684407691</td>\n",
              "      <td>8</td>\n",
              "      <td>16</td>\n",
              "      <td>163</td>\n",
              "      <td>0</td>\n",
              "      <td>0</td>\n",
              "      <td>0</td>\n",
              "      <td>0</td>\n",
              "      <td>0</td>\n",
              "      <td>0</td>\n",
              "      <td>...</td>\n",
              "      <td>1</td>\n",
              "      <td>0</td>\n",
              "      <td>0</td>\n",
              "      <td>0</td>\n",
              "      <td>0</td>\n",
              "      <td>1</td>\n",
              "      <td>0</td>\n",
              "      <td>0</td>\n",
              "      <td>0</td>\n",
              "      <td>0</td>\n",
              "    </tr>\n",
              "  </tbody>\n",
              "</table>\n",
              "<p>5 rows × 96 columns</p>\n",
              "</div>"
            ],
            "text/plain": [
              "              jobId  yearsExperience  milesFromMetropolis  salary  CEO  CFO  \\\n",
              "0  JOB1362684407687               10                   83     130    0    1   \n",
              "1  JOB1362684407688                3                   73     101    1    0   \n",
              "2  JOB1362684407689               10                   38     137    0    0   \n",
              "3  JOB1362684407690                8                   17     142    0    0   \n",
              "4  JOB1362684407691                8                   16     163    0    0   \n",
              "\n",
              "   CTO  JANITOR  JUNIOR  MANAGER ...   COMP7  COMP8  COMP9  AUTO  EDUCATION  \\\n",
              "0    0        0       0        0 ...       0      0      0     0          0   \n",
              "1    0        0       0        0 ...       0      0      0     0          0   \n",
              "2    0        0       0        0 ...       0      0      0     0          0   \n",
              "3    0        0       0        1 ...       0      0      0     1          0   \n",
              "4    0        0       0        0 ...       1      0      0     0          0   \n",
              "\n",
              "   FINANCE  HEALTH  OIL  SERVICE  WEB  \n",
              "0        0       1    0        0    0  \n",
              "1        0       0    0        0    1  \n",
              "2        0       1    0        0    0  \n",
              "3        0       0    0        0    0  \n",
              "4        1       0    0        0    0  \n",
              "\n",
              "[5 rows x 96 columns]"
            ]
          },
          "metadata": {
            "tags": []
          },
          "execution_count": 25
        }
      ]
    },
    {
      "metadata": {
        "id": "Nc4IcWSidaa2",
        "colab_type": "code",
        "outputId": "62813bd1-0933-47ec-fd86-1203e253b930",
        "colab": {
          "base_uri": "https://localhost:8080/",
          "height": 256
        }
      },
      "cell_type": "code",
      "source": [
        "# Normalizing the continuous variables;\n",
        "for feat in [\"yearsExperience\",\"milesFromMetropolis\"]:\n",
        "    train_feat_salary[feat] = (train_feat_salary[feat]-\\\n",
        "                                  train_feat_salary[feat].mean())/train_feat_salary[feat].std()\n",
        "train_feat_salary.head()"
      ],
      "execution_count": 26,
      "outputs": [
        {
          "output_type": "execute_result",
          "data": {
            "text/html": [
              "<div>\n",
              "<style scoped>\n",
              "    .dataframe tbody tr th:only-of-type {\n",
              "        vertical-align: middle;\n",
              "    }\n",
              "\n",
              "    .dataframe tbody tr th {\n",
              "        vertical-align: top;\n",
              "    }\n",
              "\n",
              "    .dataframe thead th {\n",
              "        text-align: right;\n",
              "    }\n",
              "</style>\n",
              "<table border=\"1\" class=\"dataframe\">\n",
              "  <thead>\n",
              "    <tr style=\"text-align: right;\">\n",
              "      <th></th>\n",
              "      <th>jobId</th>\n",
              "      <th>yearsExperience</th>\n",
              "      <th>milesFromMetropolis</th>\n",
              "      <th>salary</th>\n",
              "      <th>CEO</th>\n",
              "      <th>CFO</th>\n",
              "      <th>CTO</th>\n",
              "      <th>JANITOR</th>\n",
              "      <th>JUNIOR</th>\n",
              "      <th>MANAGER</th>\n",
              "      <th>...</th>\n",
              "      <th>COMP7</th>\n",
              "      <th>COMP8</th>\n",
              "      <th>COMP9</th>\n",
              "      <th>AUTO</th>\n",
              "      <th>EDUCATION</th>\n",
              "      <th>FINANCE</th>\n",
              "      <th>HEALTH</th>\n",
              "      <th>OIL</th>\n",
              "      <th>SERVICE</th>\n",
              "      <th>WEB</th>\n",
              "    </tr>\n",
              "  </thead>\n",
              "  <tbody>\n",
              "    <tr>\n",
              "      <th>0</th>\n",
              "      <td>JOB1362684407687</td>\n",
              "      <td>-0.276248</td>\n",
              "      <td>1.159046</td>\n",
              "      <td>130</td>\n",
              "      <td>0</td>\n",
              "      <td>1</td>\n",
              "      <td>0</td>\n",
              "      <td>0</td>\n",
              "      <td>0</td>\n",
              "      <td>0</td>\n",
              "      <td>...</td>\n",
              "      <td>0</td>\n",
              "      <td>0</td>\n",
              "      <td>0</td>\n",
              "      <td>0</td>\n",
              "      <td>0</td>\n",
              "      <td>0</td>\n",
              "      <td>1</td>\n",
              "      <td>0</td>\n",
              "      <td>0</td>\n",
              "      <td>0</td>\n",
              "    </tr>\n",
              "    <tr>\n",
              "      <th>1</th>\n",
              "      <td>JOB1362684407688</td>\n",
              "      <td>-1.246800</td>\n",
              "      <td>0.812759</td>\n",
              "      <td>101</td>\n",
              "      <td>1</td>\n",
              "      <td>0</td>\n",
              "      <td>0</td>\n",
              "      <td>0</td>\n",
              "      <td>0</td>\n",
              "      <td>0</td>\n",
              "      <td>...</td>\n",
              "      <td>0</td>\n",
              "      <td>0</td>\n",
              "      <td>0</td>\n",
              "      <td>0</td>\n",
              "      <td>0</td>\n",
              "      <td>0</td>\n",
              "      <td>0</td>\n",
              "      <td>0</td>\n",
              "      <td>0</td>\n",
              "      <td>1</td>\n",
              "    </tr>\n",
              "    <tr>\n",
              "      <th>2</th>\n",
              "      <td>JOB1362684407689</td>\n",
              "      <td>-0.276248</td>\n",
              "      <td>-0.399248</td>\n",
              "      <td>137</td>\n",
              "      <td>0</td>\n",
              "      <td>0</td>\n",
              "      <td>0</td>\n",
              "      <td>0</td>\n",
              "      <td>0</td>\n",
              "      <td>0</td>\n",
              "      <td>...</td>\n",
              "      <td>0</td>\n",
              "      <td>0</td>\n",
              "      <td>0</td>\n",
              "      <td>0</td>\n",
              "      <td>0</td>\n",
              "      <td>0</td>\n",
              "      <td>1</td>\n",
              "      <td>0</td>\n",
              "      <td>0</td>\n",
              "      <td>0</td>\n",
              "    </tr>\n",
              "    <tr>\n",
              "      <th>3</th>\n",
              "      <td>JOB1362684407690</td>\n",
              "      <td>-0.553548</td>\n",
              "      <td>-1.126452</td>\n",
              "      <td>142</td>\n",
              "      <td>0</td>\n",
              "      <td>0</td>\n",
              "      <td>0</td>\n",
              "      <td>0</td>\n",
              "      <td>0</td>\n",
              "      <td>1</td>\n",
              "      <td>...</td>\n",
              "      <td>0</td>\n",
              "      <td>0</td>\n",
              "      <td>0</td>\n",
              "      <td>1</td>\n",
              "      <td>0</td>\n",
              "      <td>0</td>\n",
              "      <td>0</td>\n",
              "      <td>0</td>\n",
              "      <td>0</td>\n",
              "      <td>0</td>\n",
              "    </tr>\n",
              "    <tr>\n",
              "      <th>4</th>\n",
              "      <td>JOB1362684407691</td>\n",
              "      <td>-0.553548</td>\n",
              "      <td>-1.161081</td>\n",
              "      <td>163</td>\n",
              "      <td>0</td>\n",
              "      <td>0</td>\n",
              "      <td>0</td>\n",
              "      <td>0</td>\n",
              "      <td>0</td>\n",
              "      <td>0</td>\n",
              "      <td>...</td>\n",
              "      <td>1</td>\n",
              "      <td>0</td>\n",
              "      <td>0</td>\n",
              "      <td>0</td>\n",
              "      <td>0</td>\n",
              "      <td>1</td>\n",
              "      <td>0</td>\n",
              "      <td>0</td>\n",
              "      <td>0</td>\n",
              "      <td>0</td>\n",
              "    </tr>\n",
              "  </tbody>\n",
              "</table>\n",
              "<p>5 rows × 96 columns</p>\n",
              "</div>"
            ],
            "text/plain": [
              "              jobId  yearsExperience  milesFromMetropolis  salary  CEO  CFO  \\\n",
              "0  JOB1362684407687        -0.276248             1.159046     130    0    1   \n",
              "1  JOB1362684407688        -1.246800             0.812759     101    1    0   \n",
              "2  JOB1362684407689        -0.276248            -0.399248     137    0    0   \n",
              "3  JOB1362684407690        -0.553548            -1.126452     142    0    0   \n",
              "4  JOB1362684407691        -0.553548            -1.161081     163    0    0   \n",
              "\n",
              "   CTO  JANITOR  JUNIOR  MANAGER ...   COMP7  COMP8  COMP9  AUTO  EDUCATION  \\\n",
              "0    0        0       0        0 ...       0      0      0     0          0   \n",
              "1    0        0       0        0 ...       0      0      0     0          0   \n",
              "2    0        0       0        0 ...       0      0      0     0          0   \n",
              "3    0        0       0        1 ...       0      0      0     1          0   \n",
              "4    0        0       0        0 ...       1      0      0     0          0   \n",
              "\n",
              "   FINANCE  HEALTH  OIL  SERVICE  WEB  \n",
              "0        0       1    0        0    0  \n",
              "1        0       0    0        0    1  \n",
              "2        0       1    0        0    0  \n",
              "3        0       0    0        0    0  \n",
              "4        1       0    0        0    0  \n",
              "\n",
              "[5 rows x 96 columns]"
            ]
          },
          "metadata": {
            "tags": []
          },
          "execution_count": 26
        }
      ]
    },
    {
      "metadata": {
        "id": "qgaKN7BOdaa9",
        "colab_type": "code",
        "colab": {}
      },
      "cell_type": "code",
      "source": [
        "# Now we can detach the target (salary) from the features\n",
        "train_salaries = train_feat_salary.salary\n",
        "train_feat_norm = train_feat_salary.drop(columns=[\"salary\",\"jobId\"])\n",
        "\n",
        "\n",
        "# Since we are going to perform many cross/validated tests to tune the model,\n",
        "# it is recommendable to keep a few samples for a final validation\n",
        "from sklearn.model_selection import train_test_split\n",
        "\n",
        "train_feat_norm, val_feat_norm, train_salaries, val_salaries = train_test_split(train_feat_norm,\\\n",
        "                                                                                train_salaries,\\\n",
        "                                                                               test_size=0.1)"
      ],
      "execution_count": 0,
      "outputs": []
    },
    {
      "metadata": {
        "id": "7P1IK4FDdabL",
        "colab_type": "text"
      },
      "cell_type": "markdown",
      "source": [
        "###Let's initialize the models\n",
        "\n",
        "As mentioned above we will initialize and tune three families of models:\n",
        "1. **Regularized linear models**: they are simple, yet robust methods that can deal with numerous features and generalize better than the standard linear regression. The main parameter to set here is alpha, that is, the coefficient of the regularization component in the loss function.\n",
        "2. **Random Forests**: this powerful, relatively simple family of models builds on decision trees and learns an ensemble of weak predictors (regressors) to improve generalization while keeping bias low. With Random Forests, we are going to experiment on a couple of parameters: the *maximum depth* of each weak learner/tree, and the number of trees that the algorithm needs to build. Of course, increasing too much max_depth and n_estimators is going to damage generalization and increase the learning time.\n",
        "3. **Neural Networks**: we will try applying a somewhat vanilla-variety of this powerful family of models. Neural network work very well with many data rows (provided one has the computing power) and have less problems than other models in keeping bias and variance on check, but the number of parameters that needs to be tuned is high, with several nonlinear interferences between one parameter and the others. We will use **Keras** to build a sequential network and try to keep as many defaults as possible."
      ]
    },
    {
      "metadata": {
        "id": "SIEg1WnVkTQU",
        "colab_type": "text"
      },
      "cell_type": "markdown",
      "source": [
        "First, we build our linear regressors. Lasso and Ridge are regularized versions of the classical linear regression. The difference between the two is that Lasso utilizes a L1 regularization (the penalty factor is directly proportional to the weights) while Ridge features a L2 regularization (the penalty and the weights are quadratically related). The practical difference is that Lass tends to create a model with less non-zero features overall. \n",
        "For more information: https://www.analyticsvidhya.com/blog/2016/01/complete-tutorial-ridge-lasso-regression-python/"
      ]
    },
    {
      "metadata": {
        "id": "rZlbLsq8jwLf",
        "colab_type": "code",
        "colab": {}
      },
      "cell_type": "code",
      "source": [
        "# Using sklearn Linear_model library to instantiate Lasso and Ridge regressor\n",
        "# https://scikit-learn.org/stable/modules/classes.html#module-sklearn.linear_model\n",
        "from sklearn.linear_model import Lasso, Ridge\n",
        "# These values of alpha worked reasonably well\n",
        "Lasso_reg = Lasso(alpha=0.1)\n",
        "Ridge_reg = Ridge(alpha=0.1)"
      ],
      "execution_count": 0,
      "outputs": []
    },
    {
      "metadata": {
        "id": "ppSaqOPbqhfx",
        "colab_type": "text"
      },
      "cell_type": "markdown",
      "source": [
        "Next, we build our RF model.\n",
        "Of course, we are using a RF *regressor*, which means that the model will spout the level of the output based on the votes of the ensemble learners/trees (which themselves are spouting the mean of the values included in the specific decision segment for each tree).\n",
        "\n",
        "Although sklearn offers different parameters to tune, we will make do with the above-mentioned two: max_depth and n_estimators.\n",
        "\n",
        "For a beautifully, fully worked out example: https://stackabuse.com/random-forest-algorithm-with-python-and-scikit-learn/"
      ]
    },
    {
      "metadata": {
        "id": "yW0mZB70dabO",
        "colab_type": "code",
        "colab": {}
      },
      "cell_type": "code",
      "source": [
        "#Using sklearn Ensemble library to initialize a regressor\n",
        "#https://scikit-learn.org/stable/modules/generated/sklearn.ensemble.RandomForestRegressor.html\n",
        "from sklearn.ensemble import RandomForestRegressor\n",
        "\n",
        "# These are the parameters that worked better. \n",
        "RF_reg = RandomForestRegressor(n_estimators=70, max_depth=20, n_jobs=-1, verbose=3)"
      ],
      "execution_count": 0,
      "outputs": []
    },
    {
      "metadata": {
        "id": "dVw8O1U9w8_V",
        "colab_type": "text"
      },
      "cell_type": "markdown",
      "source": [
        "Finally, we implement a simple Neural Networks through Tensorflow and Keras. As the model seems relatively low-dimensional and static, we will build a sequential network with a limited number of layers. Of course the depth of the network as well as the number of neurons per layer will be subject to tuning and validation.\n",
        "\n",
        "Other than that, we might look into the optimizer to see whether tweaking the learning rate will have some positive effect. We will use Adam as it is relatively stable and most of its parameters can be left alone. Note that we will avail of dropout and batch normalization to respectively regularize the network and improve the accuracy of the final layers."
      ]
    },
    {
      "metadata": {
        "id": "_AxiP8IodabR",
        "colab_type": "code",
        "colab": {}
      },
      "cell_type": "code",
      "source": [
        "import tensorflow as tf\n",
        "from keras.models import Sequential\n",
        "from keras.activations import relu\n",
        "from keras.layers import Dense, Dropout, BatchNormalization\n",
        "\n",
        "my_NN = Sequential([\n",
        "    Dense(90, activation=\"elu\", input_shape=(94,)),\n",
        "    Dropout(0.1),\n",
        "    Dense(60, activation=\"elu\"),\n",
        "    Dropout(0.1),\n",
        "    Dense(40, activation=\"elu\"),\n",
        "    Dropout(0.1),\n",
        "    Dense(1, activation=\"linear\"),\n",
        "    ])"
      ],
      "execution_count": 0,
      "outputs": []
    },
    {
      "metadata": {
        "id": "9faT7iNLdabU",
        "colab_type": "text"
      },
      "cell_type": "markdown",
      "source": [
        "### ---- 9 Test models ----"
      ]
    },
    {
      "metadata": {
        "id": "F1JekEFCdabW",
        "colab_type": "code",
        "colab": {}
      },
      "cell_type": "code",
      "source": [
        "#do 5-fold cross validation on models and measure MSE\n",
        "from sklearn.model_selection import cross_validate\n",
        "from sklearn.metrics import mean_squared_error, make_scorer\n",
        "\n",
        "mse_scorer = make_scorer(mean_squared_error, greater_is_better=False)"
      ],
      "execution_count": 0,
      "outputs": []
    },
    {
      "metadata": {
        "id": "bCDtVx5UbH7v",
        "colab_type": "code",
        "colab": {
          "base_uri": "https://localhost:8080/",
          "height": 54
        },
        "outputId": "be1e650a-761d-4bfc-9837-9294ae2bd5c3"
      },
      "cell_type": "code",
      "source": [
        "Lasso_scores = cross_validate(Lasso_reg, train_feat_norm, train_salaries,\\\n",
        "                        scoring=mse_scorer ,cv=5, return_train_score=True,\\\n",
        "                        return_estimator=True, verbose=4, n_jobs=-1)"
      ],
      "execution_count": 44,
      "outputs": [
        {
          "output_type": "stream",
          "text": [
            "[Parallel(n_jobs=-1)]: Using backend LokyBackend with 2 concurrent workers.\n",
            "[Parallel(n_jobs=-1)]: Done   5 out of   5 | elapsed:   29.1s finished\n"
          ],
          "name": "stderr"
        }
      ]
    },
    {
      "metadata": {
        "id": "M1CavRijtpvy",
        "colab_type": "code",
        "colab": {
          "base_uri": "https://localhost:8080/",
          "height": 54
        },
        "outputId": "8672eb51-79ed-455c-dcae-af7849145015"
      },
      "cell_type": "code",
      "source": [
        "Ridge_scores = cross_validate(Ridge_reg, train_feat_norm, train_salaries,\\\n",
        "                        scoring=mse_scorer ,cv=5, return_train_score=True,\\\n",
        "                        return_estimator=True, verbose=4, n_jobs=-1)"
      ],
      "execution_count": 45,
      "outputs": [
        {
          "output_type": "stream",
          "text": [
            "[Parallel(n_jobs=-1)]: Using backend LokyBackend with 2 concurrent workers.\n",
            "[Parallel(n_jobs=-1)]: Done   5 out of   5 | elapsed:    8.5s finished\n"
          ],
          "name": "stderr"
        }
      ]
    },
    {
      "metadata": {
        "id": "N8rZe0pmkMQj",
        "colab_type": "code",
        "colab": {}
      },
      "cell_type": "code",
      "source": [
        "RF_scores = cross_validate(RF_reg, train_feat_norm, train_salaries,\\\n",
        "                        scoring=mse_scorer ,cv=5, return_train_score=True,\\\n",
        "                        return_estimator=True, verbose=4, n_jobs=-1)"
      ],
      "execution_count": 0,
      "outputs": []
    },
    {
      "metadata": {
        "id": "iKzo3anuuC4l",
        "colab_type": "code",
        "outputId": "990c3f58-3f27-49a2-bc5c-ec706ce07382",
        "colab": {
          "base_uri": "https://localhost:8080/",
          "height": 788
        }
      },
      "cell_type": "code",
      "source": [
        "from keras.optimizers import Adam\n",
        "#my_opt = Adam(lr=0.01, beta_1=0.96, beta_2=0.99)\n",
        "my_NN.compile(optimizer=\"adam\", loss=\"mse\")\n",
        "my_NN.fit(train_feat_norm, train_salaries, validation_split=0.1, epochs=20, batch_size=40)"
      ],
      "execution_count": 35,
      "outputs": [
        {
          "output_type": "stream",
          "text": [
            "Train on 809995 samples, validate on 90000 samples\n",
            "Epoch 1/20\n",
            "809995/809995 [==============================] - 57s 70us/step - loss: 489.1018 - val_loss: 363.4010\n",
            "Epoch 2/20\n",
            "809995/809995 [==============================] - 56s 69us/step - loss: 417.6898 - val_loss: 359.1911\n",
            "Epoch 3/20\n",
            "809995/809995 [==============================] - 58s 72us/step - loss: 412.2514 - val_loss: 359.6924\n",
            "Epoch 4/20\n",
            "809995/809995 [==============================] - 56s 69us/step - loss: 409.0906 - val_loss: 358.1895\n",
            "Epoch 5/20\n",
            "809995/809995 [==============================] - 56s 69us/step - loss: 406.8404 - val_loss: 359.7843\n",
            "Epoch 6/20\n",
            "809995/809995 [==============================] - 56s 69us/step - loss: 404.2897 - val_loss: 357.1469\n",
            "Epoch 7/20\n",
            "809995/809995 [==============================] - 57s 70us/step - loss: 402.1765 - val_loss: 356.7089\n",
            "Epoch 8/20\n",
            "809995/809995 [==============================] - 59s 73us/step - loss: 400.2501 - val_loss: 356.6801\n",
            "Epoch 9/20\n",
            "809995/809995 [==============================] - 57s 70us/step - loss: 399.2490 - val_loss: 358.9880\n",
            "Epoch 10/20\n",
            "809995/809995 [==============================] - 55s 68us/step - loss: 399.9429 - val_loss: 356.4788\n",
            "Epoch 11/20\n",
            "809995/809995 [==============================] - 46s 57us/step - loss: 396.1333 - val_loss: 357.9908\n",
            "Epoch 12/20\n",
            "809995/809995 [==============================] - 45s 55us/step - loss: 395.1179 - val_loss: 357.9279\n",
            "Epoch 13/20\n",
            "809995/809995 [==============================] - 45s 56us/step - loss: 394.3181 - val_loss: 357.1840\n",
            "Epoch 14/20\n",
            "809995/809995 [==============================] - 47s 58us/step - loss: 393.0842 - val_loss: 358.2529\n",
            "Epoch 15/20\n",
            "809995/809995 [==============================] - 45s 55us/step - loss: 392.5084 - val_loss: 357.3707\n",
            "Epoch 16/20\n",
            "809995/809995 [==============================] - 45s 56us/step - loss: 391.4330 - val_loss: 359.7468\n",
            "Epoch 17/20\n",
            "809995/809995 [==============================] - 45s 56us/step - loss: 390.4318 - val_loss: 359.0991\n",
            "Epoch 18/20\n",
            "809995/809995 [==============================] - 46s 56us/step - loss: 390.2493 - val_loss: 359.2383\n",
            "Epoch 19/20\n",
            "809995/809995 [==============================] - 46s 56us/step - loss: 388.9180 - val_loss: 357.1632\n",
            "Epoch 20/20\n",
            "809995/809995 [==============================] - 45s 56us/step - loss: 388.0483 - val_loss: 358.2640\n"
          ],
          "name": "stdout"
        },
        {
          "output_type": "execute_result",
          "data": {
            "text/plain": [
              "<keras.callbacks.History at 0x7f97fcc7ef98>"
            ]
          },
          "metadata": {
            "tags": []
          },
          "execution_count": 35
        }
      ]
    },
    {
      "metadata": {
        "id": "dXHfjN2xdabb",
        "colab_type": "code",
        "outputId": "82a967cb-d265-41a3-a73b-7f0dbff32658",
        "colab": {
          "base_uri": "https://localhost:8080/",
          "height": 54
        }
      },
      "cell_type": "code",
      "source": [
        "#RF_est = RF_scores[\"estimator\"][0]\n",
        "#RF_train_score = RF_scores[\"test_score\"].mean()\n",
        "Lasso_train_score = Lasso_scores[\"test_score\"].mean()\n",
        "Ridge_train_score = Ridge_scores[\"test_score\"].mean()\n",
        "\n",
        "#print(RF_train_score)\n",
        "print(Lasso_train_score)\n",
        "print(Ridge_train_score)"
      ],
      "execution_count": 48,
      "outputs": [
        {
          "output_type": "stream",
          "text": [
            "-386.58604911068596\n",
            "-384.22207380143004\n"
          ],
          "name": "stdout"
        }
      ]
    },
    {
      "metadata": {
        "id": "GYp3IZvEdabj",
        "colab_type": "text"
      },
      "cell_type": "markdown",
      "source": [
        "### ---- 10 Select best model  ----"
      ]
    },
    {
      "metadata": {
        "id": "m4A-N7qadabd",
        "colab_type": "code",
        "outputId": "a97ba470-282a-4f33-964a-d72392c2d8f1",
        "colab": {
          "base_uri": "https://localhost:8080/",
          "height": 35
        }
      },
      "cell_type": "code",
      "source": [
        "mean_squared_error(train_salaries,this_Lasso_est.predict(train_feat_norm))"
      ],
      "execution_count": 26,
      "outputs": [
        {
          "output_type": "execute_result",
          "data": {
            "text/plain": [
              "384.98703497873436"
            ]
          },
          "metadata": {
            "tags": []
          },
          "execution_count": 26
        }
      ]
    },
    {
      "metadata": {
        "id": "lzqKaoskEN2r",
        "colab_type": "code",
        "colab": {
          "base_uri": "https://localhost:8080/",
          "height": 54
        },
        "outputId": "d91e6a3e-3044-412b-9348-5394b71ef239"
      },
      "cell_type": "code",
      "source": [
        "my_NN.evaluate(val_feat_norm,val_salaries)"
      ],
      "execution_count": 38,
      "outputs": [
        {
          "output_type": "stream",
          "text": [
            "100000/100000 [==============================] - 3s 30us/step\n"
          ],
          "name": "stdout"
        },
        {
          "output_type": "execute_result",
          "data": {
            "text/plain": [
              "359.45495004882815"
            ]
          },
          "metadata": {
            "tags": []
          },
          "execution_count": 38
        }
      ]
    },
    {
      "metadata": {
        "id": "efQ1hcgcdabr",
        "colab_type": "code",
        "colab": {}
      },
      "cell_type": "code",
      "source": [
        "#select the model with the lowest error as your \"prodcuction\" model"
      ],
      "execution_count": 0,
      "outputs": []
    },
    {
      "metadata": {
        "id": "O30L0gm5dabu",
        "colab_type": "text"
      },
      "cell_type": "markdown",
      "source": [
        "## Part 4 - DEPLOY"
      ]
    },
    {
      "metadata": {
        "id": "sV1chsK4dabz",
        "colab_type": "text"
      },
      "cell_type": "markdown",
      "source": [
        "### ---- 11 Automate pipeline ----"
      ]
    },
    {
      "metadata": {
        "id": "FxZsVl5Wdab1",
        "colab_type": "code",
        "colab": {}
      },
      "cell_type": "code",
      "source": [
        "#write script that trains model on entire training set, saves model to disk,\n",
        "#and scores the \"test\" dataset"
      ],
      "execution_count": 0,
      "outputs": []
    },
    {
      "metadata": {
        "id": "XIVtYmhLdab4",
        "colab_type": "text"
      },
      "cell_type": "markdown",
      "source": [
        "### ---- 12 Deploy solution ----"
      ]
    },
    {
      "metadata": {
        "id": "7Yqk8EqDdab5",
        "colab_type": "code",
        "colab": {}
      },
      "cell_type": "code",
      "source": [
        "#save your prediction to a csv file or optionally save them as a table in a SQL database\n",
        "#additionally, you want to save a visualization and summary of your prediction and feature importances\n",
        "#these visualizations and summaries will be extremely useful to business stakeholders"
      ],
      "execution_count": 0,
      "outputs": []
    },
    {
      "metadata": {
        "id": "YPNLFNkWdab8",
        "colab_type": "text"
      },
      "cell_type": "markdown",
      "source": [
        "### ---- 13 Measure efficacy ----"
      ]
    },
    {
      "metadata": {
        "id": "cFJswBa1dab9",
        "colab_type": "text"
      },
      "cell_type": "markdown",
      "source": [
        "We'll skip this step since we don't have the outcomes for the test data"
      ]
    },
    {
      "metadata": {
        "id": "P2xOfqjydacA",
        "colab_type": "code",
        "colab": {}
      },
      "cell_type": "code",
      "source": [
        ""
      ],
      "execution_count": 0,
      "outputs": []
    },
    {
      "metadata": {
        "id": "7A0ErsrddacC",
        "colab_type": "code",
        "colab": {}
      },
      "cell_type": "code",
      "source": [
        ""
      ],
      "execution_count": 0,
      "outputs": []
    },
    {
      "metadata": {
        "id": "rf76abiDdacG",
        "colab_type": "code",
        "colab": {}
      },
      "cell_type": "code",
      "source": [
        ""
      ],
      "execution_count": 0,
      "outputs": []
    },
    {
      "metadata": {
        "id": "TUZW2FokdacJ",
        "colab_type": "code",
        "colab": {}
      },
      "cell_type": "code",
      "source": [
        ""
      ],
      "execution_count": 0,
      "outputs": []
    }
  ]
}